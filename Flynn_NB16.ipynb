{
 "cells": [
  {
   "cell_type": "markdown",
   "metadata": {},
   "source": [
    "# Notebook 16: Expectation Maximization in practice\n"
   ]
  },
  {
   "cell_type": "markdown",
   "metadata": {},
   "source": [
    "## Learning Goal \n",
    "The goal of this notebook is to gain intuition for Expectation Maximization using a simple example involving coin tosses.\n",
    "\n",
    "## Overview\n",
    "\n",
    "In Section XIV, we introduce Expectation-Maximization (EM) as a practical way to perform maximum likelihood estimation (MLE) even when some of the data is hidden (i.e in the presence of latent or hidden variables). To better understand EM, in this short notebook we'll explore a very simple coin-tossing example adapted from [Do and Batzoglou, Nat. Biotechnol. (2008)](https://www.nature.com/articles/nbt1406). \n",
    "\n",
    "Suppose that we are given two coins A and B with unkown bias $\\theta_A$ and $\\theta_B$, respectively. Our goal is to estimate the bias vector $\\boldsymbol{\\theta}= (\\theta_A, \\theta_B)$ from the outcomes of the following experiment: \n",
    "\n",
    "<blockquote> \n",
    "First choose one coin at random. Then toss the selected coin 10 times independently and record the number of heads observed. Repeat this procedure 5 times.\n",
    "</blockquote>\n",
    "\n",
    "Formally, let $z_i\\in\\{A,B\\}$ be the coin selected in experiment $i$ and $x_i\\in\\{0,1,\\cdots 10\\}$ be the number heads recorded by tossing $z_i$ 10 times. Since we conduct $n=5$ such experiments, we can summarize the outcomes of these 50 tosses by two vectors: $\\boldsymbol{x}=(x_1,x_2\\cdots, x_5)$ and $\\boldsymbol{z}=(z_1,z_2,\\cdots, z_5)$.\n",
    "\n",
    "\n"
   ]
  },
  {
   "cell_type": "markdown",
   "metadata": {},
   "source": [
    "### Exercise 1: What if we know everything?\n",
    "\n",
    " * Consider first the case where we have complete knowledge of the experiment, namely, both $\\boldsymbol{x}$ and $\\boldsymbol{z}$ are known. How would you intuitively estimate the biases of the two coins  $\\boldsymbol{\\theta}= (\\theta_A, \\theta_B)$ ?\n",
    " \n",
    " * What's the likelihood of observing the complete outcomes of these experiments? In other words, what is $P(\\boldsymbol{x},\\boldsymbol{z}| n,\\boldsymbol{\\theta} )$? You may assume this is a Bernoulli trial. Namely, every time coin A(B) is tossed, we have, with probability $\\theta_A$($\\theta_B$), that the outcome is heads.\n",
    " \n",
    " * What's the Maximum Likelihood Estimator (MLE)? Is this consistent with your intuition? \n"
   ]
  },
  {
   "cell_type": "markdown",
   "metadata": {},
   "source": [
    "### Exercise 1:\n",
    "(a) We have all the information. So just use the z variables to separate into the two coins. Then add up the total heads / total flips and report the biases. \n",
    "\n",
    "(b) Given n and theta (# of experiments and bias), the likelihood is a weighted binomial distribution where we have $P \\sim {n \\choose x} \\times\\theta^{x}\\times(1-\\theta)^{1-x}$\n",
    "\n",
    "(c) The maximum likelihood estimator is what we quoted in part (a)"
   ]
  },
  {
   "cell_type": "markdown",
   "metadata": {},
   "source": [
    "## Comparing MLE and EM\n",
    "\n",
    "To test your answer, let's do some numerics! We will compare the MLE estimates of biases with an Expectation Maximization procedure where we do not know ${\\bf z}$. The following code computes our best guess for the biases using MLE -- assuming we know the identity of the coin used -- and compares it estimates arrived at using an EM procedure where we have no knowledge about which coin was being tossed (though we know the same coin was tossed 10 times)."
   ]
  },
  {
   "cell_type": "code",
   "execution_count": 27,
   "metadata": {},
   "outputs": [],
   "source": [
    "import numpy as np\n",
    "from scipy.special import comb\n",
    "import math\n",
    "\n",
    "\n",
    "def compute_likelihood(obs, n, pheads): # No surprise, it's Binomial!!!\n",
    "\n",
    "    likelihood = comb(n, obs, exact=True)*(pheads**obs)*(1.0-pheads)**(n-obs)\n",
    "\n",
    "    return likelihood\n",
    "\n",
    "def generateExperiments(aTrue, bTrue, aGuess, bGuess):\n",
    "    \n",
    "    # generate experiments\n",
    "    num_coin_toss = 10 # each experiment contains num_coin_toss tosses\n",
    "    num_exp = 5  # we perform 5 such experiments\n",
    "    theta_A_true = aTrue\n",
    "    theta_B_true = bTrue\n",
    "    coin_choice = np.zeros(num_exp) # initialize: 0 for A and 1 for B\n",
    "    head_counts = np.zeros(num_exp)\n",
    "\n",
    "    # MLE \n",
    "    MLE_A = 0.0\n",
    "    MLE_B = 0.0\n",
    "\n",
    "    # generate the outcomes of experiment\n",
    "    for i in np.arange(num_exp):\n",
    "\n",
    "        if np.random.randint(2) == 0: # coin A is selected\n",
    "            head_counts[i] = np.random.binomial(num_coin_toss , theta_A_true, 1) # toss coin A num_coin_toss times\n",
    "            MLE_A = MLE_A +  head_counts[i] # add the number of heads observed to total headcounts \n",
    "\n",
    "        else: # coin B is selected \n",
    "            head_counts[i] = np.random.binomial(num_coin_toss , theta_B_true, 1) # toss coin B num_coin_toss times\n",
    "            coin_choice[i] = 1  # record the selection of coin B during experiment i \n",
    "            MLE_B = MLE_B +  head_counts[i] # add the number of heads observed to total headcounts \n",
    "\n",
    "    tail_counts = num_coin_toss - head_counts\n",
    "\n",
    "    try:\n",
    "        # MLE is merely the proportion of heads for each coin toss\n",
    "        MLE_A = MLE_A / ((num_exp - np.count_nonzero(coin_choice))*num_coin_toss)\n",
    "    except ZeroDivisionError:\n",
    "        print('DIVIDE BY ZERO')\n",
    "        MLE_A = 0\n",
    "        \n",
    "    try:\n",
    "        MLE_B = MLE_B / (np.count_nonzero(coin_choice)*num_coin_toss)\n",
    "    except ZeroDivisionError:\n",
    "        print('DIVIDE BY ZERO')\n",
    "        MLE_B = 0\n",
    "        \n",
    "    # initialize the pA(heads) and pB(heads), namely, coin biases\n",
    "    pA_heads = np.zeros(100); \n",
    "    pB_heads = np.zeros(100); \n",
    "\n",
    "    pA_heads[0] = aGuess # initial guess\n",
    "    pB_heads[0] = bGuess # initial guess\n",
    "\n",
    "    # E-M begins!\n",
    "    epsilon = 0.001   # error threshold\n",
    "    j = 0 # iteration counter\n",
    "    improvement = float('inf')\n",
    "\n",
    "    while (improvement > epsilon):\n",
    "\n",
    "        expectation_A = np.zeros((num_exp,2), dtype=float) \n",
    "        expectation_B = np.zeros((num_exp,2), dtype=float)\n",
    "\n",
    "        for i in np.arange(min(len(head_counts),len(tail_counts))):\n",
    "\n",
    "            eH = head_counts[i]\n",
    "            eT = tail_counts[i]\n",
    "\n",
    "            # E step:\n",
    "            lA = compute_likelihood(eH, num_coin_toss, pA_heads[j])\n",
    "            lB = compute_likelihood(eH, num_coin_toss, pB_heads[j])\n",
    "\n",
    "            weightA = lA / (lA + lB)\n",
    "            weightB = lB / (lA + lB)\n",
    "\n",
    "            expectation_A[i] = weightA*np.array([eH, eT])\n",
    "            expectation_B[i] = weightB*np.array([eH, eT])\n",
    "\n",
    "\n",
    "        # M step\n",
    "        theta_A = np.sum(expectation_A, axis = 0)[0] / np.sum(expectation_A) \n",
    "        theta_B = np.sum(expectation_B, axis = 0)[0] / np.sum(expectation_B) \n",
    "\n",
    "#         print('At iteration %d, theta_A = %2f,  theta_B = %2f' % (j, theta_A, theta_B))\n",
    "\n",
    "        pA_heads[j+1] = sum(expectation_A)[0] / sum(sum(expectation_A)); \n",
    "        pB_heads[j+1] = sum(expectation_B)[0] / sum(sum(expectation_B)); \n",
    "\n",
    "        improvement = max( abs(np.array([pA_heads[j+1],pB_heads[j+1]]) - np.array([pA_heads[j],pB_heads[j]]) ))\n",
    "        j = j+1\n",
    "\n",
    "    # END of E-M, print the outcome\n",
    "    \n",
    "    print(f'Initial A:{aGuess:.02f}, Initial B:{bGuess:.02f}')\n",
    "    print('E-M converges at iteration %d' %j)\n",
    "    print('RESULT:')\n",
    "    print('E-M: theta_A = %2f,  theta_B = %2f' % (theta_A, theta_B))\n",
    "    print('MLE with complete data: theta_A = %2f,  theta_B = %2f' % (MLE_A, MLE_B))\n",
    "    \n",
    "    return MLE_A, MLE_B, theta_A, theta_B"
   ]
  },
  {
   "cell_type": "markdown",
   "metadata": {},
   "source": [
    "### Exercise 2\n",
    "\n",
    " * How fast does EM converge? Is the converged result close to what you'd get from MLE? \n",
    " \n",
    " * Following Exercise 1, what's the objective function we're optimizing in the E-step? Does this function have a *unique global maximum*? \n",
    " \n",
    " * Compare both the results of MLE and EM to the actual bias (i.e. *theta_A_true*  and *theta_B_true* in the snippet above), comment on their performance.\n",
    " \n"
   ]
  },
  {
   "cell_type": "markdown",
   "metadata": {},
   "source": [
    "### Exercise 2\n",
    "\n",
    "(a) EM converges in only 6 iterations. The result is sometimes very good, sometimes not so much. In the most recent run above we achieve excellent results between MLE and EM, but in some runs the EM can converge on the wrong answer. \n",
    "\n",
    "(b) the objective function we are optimizing the likelihood function defined in part (b) in exercise 1. We are guaranteed to approach a maximum, although this can be a local maximum and not a global one, hence how we sometimes converge to the wrong solution. \n",
    "\n",
    "(c) Both the MLE and EM do not always match the actual bias. This is due to us having finite samples. If we increase the number of flips per experiment or number of experiments then we could get better agreement. "
   ]
  },
  {
   "cell_type": "markdown",
   "metadata": {},
   "source": [
    "## Final remarks: a few practical tricks\n",
    "\n",
    "From Exercise 2 and Section XIV, we know that the E-M algorithm often approximates the MLE even in the presence of latent (hidden variables). Like with most optimization methods for nonconcave functions, E-M only guarantees convergence to a local maximum of the objective function. For this reason, its performance can be boosted by running the EM procedure starting with multiple initial parameters. "
   ]
  },
  {
   "cell_type": "markdown",
   "metadata": {},
   "source": [
    "### Exercise 3\n",
    "\n",
    "* Now instead of having a fixed initial guess of coin biases (i.e. *pA_heads[0]* and *pB_heads[0]* in the snippet), draw these values uniformly at random from $[0,1]$ and run the E-M algorithm. Repeat this twenty times and report what you observed. What's the best initial guess that gives the closest estimate to the true parameters?\n",
    "\n",
    "* As we discussed in Section X (LinReg), **Maximum a posteriori (MAP)** estimation differs from MLE in that it employs an augmented objective function which incorporates a prior distribution over the quantities we want to estimate, and the prior distribution can be think of as a regularizer for the objective fuction used in MLE. Here we will explore how to extend E-M to MAP estimation. \n",
    "\n",
    "  (1) First derive the MAP estimate for the one-coin-flipping example, namely,\n",
    "  $$\n",
    "  \\hat{{\\theta}}_{MAP}(\\boldsymbol{x}) = \\arg\\max_{\\theta\\in[0,1]} \\log P(\\boldsymbol{x}|n,{\\theta} ) + \\log P({\\theta}),\n",
    "  $$\n",
    "  where \n",
    "  $$P(\\boldsymbol{x}|n,{\\theta}) = \\prod_{i=1}^{10} \\text{Binomial} (x_i|n,\\theta)$$\n",
    "  \n",
    "  $$P({\\theta})=\\mathcal{N}(\\theta|\\mu, \\sigma)$$\n",
    "  \n",
    "  (2) Based on (1), now modify the E-M snippet above to incorporate this prior distribution into the **M-step**. Comment on the performance. For the prior choice, try $P(\\boldsymbol{\\theta})=\\mathcal{N}(\\theta_A|0.83, 1)\\mathcal{N}(\\theta_B|0.37, 1)$."
   ]
  },
  {
   "cell_type": "markdown",
   "metadata": {
    "jupyter": {
     "outputs_hidden": true
    }
   },
   "source": [
    "### Exercise 3:\n",
    "(a) run the above 20 times and see which initial guesses are the best at estimating the true values"
   ]
  },
  {
   "cell_type": "code",
   "execution_count": 31,
   "metadata": {},
   "outputs": [
    {
     "name": "stdout",
     "output_type": "stream",
     "text": [
      "True A:0.4, True B:0.8\n",
      "Initial A:0.72, Initial B:0.22\n",
      "E-M converges at iteration 8\n",
      "RESULT:\n",
      "E-M: theta_A = 0.762225,  theta_B = 0.323910\n",
      "MLE with complete data: theta_A = 0.333333,  theta_B = 0.800000\n",
      "Initial A:0.90, Initial B:0.39\n",
      "E-M converges at iteration 13\n",
      "RESULT:\n",
      "E-M: theta_A = 0.608129,  theta_B = 0.320075\n",
      "MLE with complete data: theta_A = 0.350000,  theta_B = 0.800000\n",
      "Initial A:0.81, Initial B:0.40\n",
      "E-M converges at iteration 7\n",
      "RESULT:\n",
      "E-M: theta_A = 0.750636,  theta_B = 0.508906\n",
      "MLE with complete data: theta_A = 0.450000,  theta_B = 0.766667\n",
      "Initial A:0.69, Initial B:0.82\n",
      "E-M converges at iteration 7\n",
      "RESULT:\n",
      "E-M: theta_A = 0.407580,  theta_B = 0.925075\n",
      "MLE with complete data: theta_A = 0.400000,  theta_B = 0.925000\n",
      "Initial A:0.90, Initial B:0.71\n",
      "E-M converges at iteration 14\n",
      "RESULT:\n",
      "E-M: theta_A = 0.705725,  theta_B = 0.654185\n",
      "MLE with complete data: theta_A = 0.550000,  theta_B = 0.766667\n",
      "Initial A:0.65, Initial B:0.88\n",
      "E-M converges at iteration 7\n",
      "RESULT:\n",
      "E-M: theta_A = 0.541085,  theta_B = 0.857381\n",
      "MLE with complete data: theta_A = 0.500000,  theta_B = 0.866667\n",
      "Initial A:0.69, Initial B:0.66\n",
      "E-M converges at iteration 10\n",
      "RESULT:\n",
      "E-M: theta_A = 0.827169,  theta_B = 0.291026\n",
      "MLE with complete data: theta_A = 0.300000,  theta_B = 0.850000\n",
      "Initial A:0.88, Initial B:0.60\n",
      "E-M converges at iteration 10\n",
      "RESULT:\n",
      "E-M: theta_A = 0.708830,  theta_B = 0.572836\n",
      "MLE with complete data: theta_A = 0.533333,  theta_B = 0.800000\n",
      "Initial A:0.30, Initial B:0.34\n",
      "E-M converges at iteration 12\n",
      "RESULT:\n",
      "E-M: theta_A = 0.331393,  theta_B = 0.945908\n",
      "MLE with complete data: theta_A = 0.200000,  theta_B = 0.833333\n",
      "Initial A:0.95, Initial B:0.34\n",
      "E-M converges at iteration 4\n",
      "RESULT:\n",
      "E-M: theta_A = 0.875010,  theta_B = 0.200380\n",
      "MLE with complete data: theta_A = 0.200000,  theta_B = 0.875000\n",
      "Initial A:0.50, Initial B:0.48\n",
      "E-M converges at iteration 12\n",
      "RESULT:\n",
      "E-M: theta_A = 0.878457,  theta_B = 0.554907\n",
      "MLE with complete data: theta_A = 0.400000,  theta_B = 0.850000\n",
      "Initial A:0.66, Initial B:0.76\n",
      "E-M converges at iteration 6\n",
      "RESULT:\n",
      "E-M: theta_A = 0.590728,  theta_B = 0.894953\n",
      "MLE with complete data: theta_A = 0.550000,  theta_B = 0.900000\n",
      "Initial A:0.61, Initial B:0.79\n",
      "E-M converges at iteration 9\n",
      "RESULT:\n",
      "E-M: theta_A = 0.438713,  theta_B = 0.605048\n",
      "MLE with complete data: theta_A = 0.450000,  theta_B = 0.800000\n",
      "Initial A:0.45, Initial B:0.94\n",
      "E-M converges at iteration 4\n",
      "RESULT:\n",
      "E-M: theta_A = 0.300167,  theta_B = 0.897207\n",
      "MLE with complete data: theta_A = 0.425000,  theta_B = 1.000000\n",
      "Initial A:0.90, Initial B:0.66\n",
      "E-M converges at iteration 3\n",
      "RESULT:\n",
      "E-M: theta_A = 0.895643,  theta_B = 0.374998\n",
      "MLE with complete data: theta_A = 0.375000,  theta_B = 0.900000\n",
      "Initial A:0.69, Initial B:0.88\n",
      "E-M converges at iteration 8\n",
      "RESULT:\n",
      "E-M: theta_A = 0.446674,  theta_B = 0.634257\n",
      "MLE with complete data: theta_A = 0.350000,  theta_B = 0.666667\n",
      "Initial A:0.52, Initial B:0.53\n",
      "E-M converges at iteration 10\n",
      "RESULT:\n",
      "E-M: theta_A = 0.312108,  theta_B = 0.765041\n",
      "MLE with complete data: theta_A = 0.433333,  theta_B = 0.800000\n",
      "Initial A:0.35, Initial B:0.53\n",
      "E-M converges at iteration 4\n",
      "RESULT:\n",
      "E-M: theta_A = 0.302168,  theta_B = 0.831791\n",
      "MLE with complete data: theta_A = 0.300000,  theta_B = 0.833333\n",
      "Initial A:0.69, Initial B:0.53\n",
      "E-M converges at iteration 8\n",
      "RESULT:\n",
      "E-M: theta_A = 0.865199,  theta_B = 0.527164\n",
      "MLE with complete data: theta_A = 0.450000,  theta_B = 0.833333\n",
      "Initial A:0.62, Initial B:0.92\n",
      "E-M converges at iteration 9\n",
      "RESULT:\n",
      "E-M: theta_A = 0.369867,  theta_B = 0.767162\n",
      "MLE with complete data: theta_A = 0.366667,  theta_B = 0.800000\n"
     ]
    }
   ],
   "source": [
    "aTrue = 0.4\n",
    "bTrue = 0.8\n",
    "\n",
    "print(f'True A:{aTrue}, True B:{bTrue}')\n",
    "\n",
    "MLE_best = 2\n",
    "ma, mb = 0, 0\n",
    "EM_best = 2\n",
    "ea, eb = 0, 0\n",
    "mia, mib = 0,0\n",
    "eia, eib = 0,0\n",
    "\n",
    "for i in range(20):\n",
    "    a = np.random.uniform(.2, 1)\n",
    "    b = np.random.uniform(.2, 1)\n",
    "    print(f'Guess')\n",
    "    mleA, mleB, emA, emB = generateExperiments(aTrue, bTrue, a, b)\n",
    "    if np.abs(mleA - aTrue) + np.abs(mleB - bTrue) < MLE_best:\n",
    "        ma, mb = mleA, mleB\n",
    "        mia, mib = a, b\n",
    "    \n",
    "    if np.abs(emA - aTrue) + np.abs(emB - bTrue) < EM_best:\n",
    "        ea, eb = emA, emB\n",
    "        eia, eib = a, b"
   ]
  },
  {
   "cell_type": "code",
   "execution_count": 32,
   "metadata": {},
   "outputs": [
    {
     "data": {
      "text/plain": [
       "(0.6231618736898537,\n",
       " 0.9170094685577352,\n",
       " 0.6231618736898537,\n",
       " 0.9170094685577352)"
      ]
     },
     "execution_count": 32,
     "metadata": {},
     "output_type": "execute_result"
    }
   ],
   "source": [
    "mia, mib, eia, eib"
   ]
  },
  {
   "cell_type": "markdown",
   "metadata": {},
   "source": [
    "##### above are the best initial values picked that maximized how close the EM/MLE estimates were"
   ]
  },
  {
   "cell_type": "code",
   "execution_count": null,
   "metadata": {},
   "outputs": [],
   "source": []
  }
 ],
 "metadata": {
  "kernelspec": {
   "display_name": "Python 3",
   "language": "python",
   "name": "python3"
  },
  "language_info": {
   "codemirror_mode": {
    "name": "ipython",
    "version": 3
   },
   "file_extension": ".py",
   "mimetype": "text/x-python",
   "name": "python",
   "nbconvert_exporter": "python",
   "pygments_lexer": "ipython3",
   "version": "3.7.4"
  }
 },
 "nbformat": 4,
 "nbformat_minor": 4
}
